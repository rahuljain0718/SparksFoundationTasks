{
  "nbformat": 4,
  "nbformat_minor": 0,
  "metadata": {
    "colab": {
      "name": "GRIP 2.ipynb",
      "provenance": [],
      "authorship_tag": "ABX9TyNvfSDu3gRQEXDSJsclFiTJ",
      "include_colab_link": true
    },
    "kernelspec": {
      "name": "python3",
      "display_name": "Python 3"
    },
    "language_info": {
      "name": "python"
    }
  },
  "cells": [
    {
      "cell_type": "markdown",
      "metadata": {
        "id": "view-in-github",
        "colab_type": "text"
      },
      "source": [
        "<a href=\"https://colab.research.google.com/github/rahuljain0718/SparksFoundationTasks/blob/main/GRIP_2.ipynb\" target=\"_parent\"><img src=\"https://colab.research.google.com/assets/colab-badge.svg\" alt=\"Open In Colab\"/></a>"
      ]
    },
    {
      "cell_type": "markdown",
      "metadata": {
        "id": "vyrYDUpNsg96"
      },
      "source": [
        "THE SPARKS FOUNDATION\n",
        "\n",
        "#GRIP JUNE 2021"
      ]
    },
    {
      "cell_type": "markdown",
      "metadata": {
        "id": "Or1E2tQBk4VL"
      },
      "source": [
        "# **Author : Rahul Jain**"
      ]
    },
    {
      "cell_type": "markdown",
      "metadata": {
        "id": "_nWwpC7DkyiO"
      },
      "source": [
        "\n",
        "To Explore Unsupervised Machine Learning:K-means Clustering"
      ]
    },
    {
      "cell_type": "markdown",
      "metadata": {
        "id": "1vwOHcJolDU7"
      },
      "source": [
        "In this task,we will use the iris dataset,to predict the optimum number of clusters."
      ]
    },
    {
      "cell_type": "code",
      "metadata": {
        "colab": {
          "base_uri": "https://localhost:8080/",
          "height": 204
        },
        "id": "vZqbkXJYjuUC",
        "outputId": "235564ee-6ebb-4cd9-8cb5-390a801c8288"
      },
      "source": [
        "# Importing the libraries\n",
        "import numpy as np\n",
        "import matplotlib.pyplot as plt\n",
        "import pandas as pd\n",
        "from sklearn import datasets\n",
        "\n",
        "# Load the iris dataset\n",
        "iris = datasets.load_iris()\n",
        "iris_df = pd.DataFrame(iris.data, columns = iris.feature_names)\n",
        "iris_df.head() # See the first 5 rows"
      ],
      "execution_count": 1,
      "outputs": [
        {
          "output_type": "execute_result",
          "data": {
            "text/html": [
              "<div>\n",
              "<style scoped>\n",
              "    .dataframe tbody tr th:only-of-type {\n",
              "        vertical-align: middle;\n",
              "    }\n",
              "\n",
              "    .dataframe tbody tr th {\n",
              "        vertical-align: top;\n",
              "    }\n",
              "\n",
              "    .dataframe thead th {\n",
              "        text-align: right;\n",
              "    }\n",
              "</style>\n",
              "<table border=\"1\" class=\"dataframe\">\n",
              "  <thead>\n",
              "    <tr style=\"text-align: right;\">\n",
              "      <th></th>\n",
              "      <th>sepal length (cm)</th>\n",
              "      <th>sepal width (cm)</th>\n",
              "      <th>petal length (cm)</th>\n",
              "      <th>petal width (cm)</th>\n",
              "    </tr>\n",
              "  </thead>\n",
              "  <tbody>\n",
              "    <tr>\n",
              "      <th>0</th>\n",
              "      <td>5.1</td>\n",
              "      <td>3.5</td>\n",
              "      <td>1.4</td>\n",
              "      <td>0.2</td>\n",
              "    </tr>\n",
              "    <tr>\n",
              "      <th>1</th>\n",
              "      <td>4.9</td>\n",
              "      <td>3.0</td>\n",
              "      <td>1.4</td>\n",
              "      <td>0.2</td>\n",
              "    </tr>\n",
              "    <tr>\n",
              "      <th>2</th>\n",
              "      <td>4.7</td>\n",
              "      <td>3.2</td>\n",
              "      <td>1.3</td>\n",
              "      <td>0.2</td>\n",
              "    </tr>\n",
              "    <tr>\n",
              "      <th>3</th>\n",
              "      <td>4.6</td>\n",
              "      <td>3.1</td>\n",
              "      <td>1.5</td>\n",
              "      <td>0.2</td>\n",
              "    </tr>\n",
              "    <tr>\n",
              "      <th>4</th>\n",
              "      <td>5.0</td>\n",
              "      <td>3.6</td>\n",
              "      <td>1.4</td>\n",
              "      <td>0.2</td>\n",
              "    </tr>\n",
              "  </tbody>\n",
              "</table>\n",
              "</div>"
            ],
            "text/plain": [
              "   sepal length (cm)  sepal width (cm)  petal length (cm)  petal width (cm)\n",
              "0                5.1               3.5                1.4               0.2\n",
              "1                4.9               3.0                1.4               0.2\n",
              "2                4.7               3.2                1.3               0.2\n",
              "3                4.6               3.1                1.5               0.2\n",
              "4                5.0               3.6                1.4               0.2"
            ]
          },
          "metadata": {
            "tags": []
          },
          "execution_count": 1
        }
      ]
    },
    {
      "cell_type": "markdown",
      "metadata": {
        "id": "Y8GLj0h-lWwJ"
      },
      "source": [
        "Finding the optimum number of clusters for k-means classification"
      ]
    },
    {
      "cell_type": "code",
      "metadata": {
        "id": "NVklieqBkQC3"
      },
      "source": [
        "x = iris_df.iloc[:, [0, 1, 2,3]].values\n",
        "\n",
        "from sklearn.cluster import KMeans\n",
        "wcss = []\n",
        "\n",
        "for i in range(1, 11):\n",
        "    kmeans = KMeans(n_clusters = i, init = 'k-means++', \n",
        "                    max_iter = 300, n_init = 10, random_state = 0)\n",
        "    kmeans.fit(x)\n",
        "    wcss.append(kmeans.inertia_)"
      ],
      "execution_count": 3,
      "outputs": []
    },
    {
      "cell_type": "markdown",
      "metadata": {
        "id": "G2hh9va0lfdt"
      },
      "source": [
        "Plotting the results"
      ]
    },
    {
      "cell_type": "code",
      "metadata": {
        "colab": {
          "base_uri": "https://localhost:8080/",
          "height": 294
        },
        "id": "d0_6gBzJljN4",
        "outputId": "2b96ae31-a314-4d0e-cc1a-3b3036afee45"
      },
      "source": [
        "plt.plot(range(1,11),wcss)\n",
        "csfont = {'fontname':'serif'}\n",
        "plt.title('The elbow method', loc='right',**csfont)\n",
        "plt.xlabel('No of clusters',**csfont)\n",
        "plt.ylabel('WCSS',**csfont)\n",
        "plt.grid(axis ='x',color='green',linestyle='--',linewidth=1.5)\n",
        "plt.show()"
      ],
      "execution_count": 7,
      "outputs": [
        {
          "output_type": "display_data",
          "data": {
            "image/png": "[encoded data removed]",
            "text/plain": [
              "<Figure size 432x288 with 1 Axes>"
            ]
          },
          "metadata": {
            "tags": [],
            "needs_background": "light"
          }
        }
      ]
    },
    {
      "cell_type": "markdown",
      "metadata": {
        "id": "9r3zJNLultif"
      },
      "source": [
        "\n",
        "Applying K-means to the dataset"
      ]
    },
    {
      "cell_type": "code",
      "metadata": {
        "id": "XTPBSBTplwZn"
      },
      "source": [
        "kmeans = KMeans(n_clusters = 3, init = 'k-means++',\n",
        "                max_iter = 300, n_init = 10, random_state = 0)\n",
        "y_kmeans = kmeans.fit_predict(x)"
      ],
      "execution_count": 5,
      "outputs": []
    },
    {
      "cell_type": "markdown",
      "metadata": {
        "id": "CXV3mzvvl0ks"
      },
      "source": [
        "\n",
        "Visualising the clusters on the first two columns"
      ]
    },
    {
      "cell_type": "code",
      "metadata": {
        "colab": {
          "base_uri": "https://localhost:8080/",
          "height": 285
        },
        "id": "Pv3q-rt3l15p",
        "outputId": "09171609-6ab3-4e36-ee8d-878486fd4606"
      },
      "source": [
        "\n",
        "plt.scatter(x[y_kmeans == 0, 0], x[y_kmeans == 0, 1], \n",
        "            s = 100, c = 'yellow', label = 'Iris-setosa')\n",
        "plt.scatter(x[y_kmeans == 1, 0], x[y_kmeans == 1, 1], \n",
        "            s = 100, c = 'orange', label = 'Iris-versicolour')\n",
        "plt.scatter(x[y_kmeans == 2, 0], x[y_kmeans == 2, 1],\n",
        "            s = 100, c = 'green', label = 'Iris-virginica')\n",
        "plt.grid(axis='y',linestyle='--',color='black')\n",
        "plt.legend\n",
        "plt.legend()"
      ],
      "execution_count": 10,
      "outputs": [
        {
          "output_type": "execute_result",
          "data": {
            "text/plain": [
              "<matplotlib.legend.Legend at 0x7f14cb7e1b10>"
            ]
          },
          "metadata": {
            "tags": []
          },
          "execution_count": 10
        },
        {
          "output_type": "display_data",
          "data": {
            "image/png": "[encoded data removed]",
            "text/plain": [
              "<Figure size 432x288 with 1 Axes>"
            ]
          },
          "metadata": {
            "tags": [],
            "needs_background": "light"
          }
        }
      ]
    }
  ]
}